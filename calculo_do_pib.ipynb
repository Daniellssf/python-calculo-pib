{
  "nbformat": 4,
  "nbformat_minor": 0,
  "metadata": {
    "colab": {
      "name": "Questão 5 - Calculo do PIB",
      "provenance": [],
      "collapsed_sections": [],
      "authorship_tag": "ABX9TyM4cNICC92pUWdJ6SxjsJbP",
      "include_colab_link": true
    },
    "kernelspec": {
      "name": "python3",
      "display_name": "Python 3"
    }
  },
  "cells": [
    {
      "cell_type": "markdown",
      "metadata": {
        "id": "view-in-github",
        "colab_type": "text"
      },
      "source": [
        "<a href=\"https://colab.research.google.com/github/Daniellssf/python-calculo-pib/blob/main/calculo_do_pib.ipynb\" target=\"_parent\"><img src=\"https://colab.research.google.com/assets/colab-badge.svg\" alt=\"Open In Colab\"/></a>"
      ]
    },
    {
      "cell_type": "code",
      "metadata": {
        "id": "-IVHknqhtWTM",
        "colab": {
          "base_uri": "https://localhost:8080/",
          "height": 854
        },
        "outputId": "a900d16a-05a3-4857-a77f-54521966b816"
      },
      "source": [
        "import pandas as pd\n",
        "import matplotlib.pyplot as plt\n",
        "\n",
        "print(\"************************************\")\n",
        "print(\"**** Questão 5 - Calculo do PIB ****\")\n",
        "print(\"************************************\\n\")\n",
        "\n",
        "def pib_do_pais(): #Questão A\n",
        "  print(\"A) Programa contendo uma função que permite ao usuário solicitar o PIB de um país para um determinado ano:\\n\")\n",
        "  pais = input('Digite o pais do qual você quer saber o PIB: ')\n",
        "  ano = input('Digite o ano do PIB: ')\n",
        "  \n",
        "  df = pd.read_csv('Assessment_PIBs - Planilha1.csv')  \n",
        "  ano_int = int(ano)\n",
        "\n",
        "  if pais not in df['País'].values:\n",
        "    print(\"Não existem dados para o país escolhido./n\")\n",
        "  elif ano_int < 2013 or ano_int > 2020:\n",
        "    print(\"Ano não existe, tente os anos de 2013 a 2020.\\n\") \n",
        "  else:\n",
        "    ano_str = str(ano_int)\n",
        "    resultado_do_pib = df.loc[df['País'] == pais, ano_str].values[0]\n",
        "    print(f\"\\nO PIB do {pais} no ano de {ano_str} foi de US$ {resultado_do_pib} trilhões.\\n\")\n",
        "\n",
        "def estimativa_pib(): #Questão B\n",
        "  \n",
        "  df = pd.read_csv('Assessment_PIBs - Planilha1.csv')  \n",
        "  print(\"B) Programa contendo uma função que lista, por país, a estimativa de variação do PIB, em percentual, entre 2013 e 2020:\\n\")\n",
        "  for i in range(15):\n",
        "    pais = df['País'].values[i]\n",
        "    pib_inicial = df.loc[df['País'] == pais, '2013'].values[0]\n",
        "    pib_inicial_int = float(pib_inicial)\n",
        "    pib_final = df.loc[df['País'] == pais, '2020'].values[0]\n",
        "    pib_final_int = float(pib_final)\n",
        "    variacao_pib = float((pib_final_int / pib_inicial_int - 1) * 100)\n",
        "    print(f\"{pais} variou seu PIB nos anos de 2013 a 2020 em {variacao_pib:0.2f}%\")\n",
        "\n",
        "\n",
        "def mostra_grafico_pib(): # Questão C\n",
        "\n",
        "  print(\"\\n C) Função que, exibe o gráfico da evolução do PIB ao longo dos anos de um determinado país\\n:\")\n",
        "  df = pd.read_csv('Assessment_PIBs - Planilha1.csv')\n",
        "  pais = str(input(\"Digite o pais para produzir o seu gráfico de evolução do PIB ao longo dos anos: \\n\"))\n",
        "  pib_eixo_vertical = []\n",
        "  anos_eixo_horizontal = []\n",
        "\n",
        "  for pib in range(2013, 2021):\n",
        "    ano_str = str(pib)\n",
        "    pibs = df.loc[df['País'] == pais, ano_str].values\n",
        "    pibs_str = str(pibs)\n",
        "    pib_eixo_vertical.append(pibs_str)\n",
        "\n",
        "  for ano in range(2013, 2021):\n",
        "    anos_eixo_horizontal.append(ano)\n",
        "\n",
        "  plt.plot(anos_eixo_horizontal, pib_eixo_vertical)\n",
        "  plt.xlabel('Anos')\n",
        "  plt.ylabel('Progressão do PIB')\n",
        "  plt.show()\n",
        "\n",
        "\n",
        "\n",
        "pib_do_pais()\n",
        "estimativa_pib()\n",
        "mostra_grafico_pib()\n"
      ],
      "execution_count": null,
      "outputs": [
        {
          "output_type": "stream",
          "text": [
            "************************************\n",
            "**** Questão 5 - Calculo do PIB ****\n",
            "************************************\n",
            "\n",
            "A) Programa contendo uma função que permite ao usuário solicitar o PIB de um país para um determinado ano.\n",
            "\n",
            "Digite o pais do qual você quer saber o PIB: EUA\n",
            "Digite o ano do PIB: 2015\n",
            "\n",
            "O PIB do EUA no ano de 2015 foi de US$ 18.12 trilhões.\n",
            "\n",
            "B) Programa contendo uma função que lista, por país, a estimativa de variação do PIB, em percentual, entre 2013 e 2020.\n",
            "\n",
            "EUA variou seu PIB nos anos de 2013 a 2020 em 34.13%\n",
            "China variou seu PIB nos anos de 2013 a 2020 em 70.72%\n",
            "Japão variou seu PIB nos anos de 2013 a 2020 em 0.20%\n",
            "Alemanha variou seu PIB nos anos de 2013 a 2020 em 9.92%\n",
            "Reino Unido variou seu PIB nos anos de 2013 a 2020 em 39.18%\n",
            "França variou seu PIB nos anos de 2013 a 2020 em 7.50%\n",
            "Brasil variou seu PIB nos anos de 2013 a 2020 em -1.67%\n",
            "Itália variou seu PIB nos anos de 2013 a 2020 em 1.88%\n",
            "Índia variou seu PIB nos anos de 2013 a 2020 em 94.65%\n",
            "Rússia variou seu PIB nos anos de 2013 a 2020 em 0.48%\n",
            "Canadá variou seu PIB nos anos de 2013 a 2020 em 11.48%\n",
            "Coreia do Sul variou seu PIB nos anos de 2013 a 2020 em 54.62%\n",
            "Espanha variou seu PIB nos anos de 2013 a 2020 em 6.47%\n",
            "México variou seu PIB nos anos de 2013 a 2020 em 30.95%\n",
            "Indonésia variou seu PIB nos anos de 2013 a 2020 em -85.76%\n",
            "\n",
            " C) Função que, exibe o gráfico da evolução do PIB ao longo dos anos de um determinado país\n",
            ".\n",
            "Digite o pais para produzir o seu gráfico de evolução do PIB ao longo dos anos: \n",
            "Brasil\n"
          ],
          "name": "stdout"
        },
        {
          "output_type": "display_data",
          "data": {
            "image/png": "[encoded data removed]",
            "text/plain": [
              "<Figure size 432x288 with 1 Axes>"
            ]
          },
          "metadata": {
            "tags": [],
            "needs_background": "light"
          }
        }
      ]
    }
  ]
}